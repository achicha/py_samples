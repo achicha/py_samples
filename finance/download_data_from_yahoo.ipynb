{
 "cells": [
  {
   "cell_type": "code",
   "execution_count": 48,
   "metadata": {
    "collapsed": false
   },
   "outputs": [],
   "source": [
    "import requests\n",
    "from datetime import datetime as dt\n",
    "\n",
    "def parse_data(url):\n",
    "    resp = requests.get(url).json()\n",
    "    data = []\n",
    "    for indx, ts in enumerate(resp['chart']['result'][0]['timestamp']):\n",
    "        data.append((dt.fromtimestamp(int(ts)).strftime('%Y%m%d%H%M%S'), \n",
    "                     resp['chart']['result'][0]['indicators']['quote'][0]['open'][indx],\n",
    "                     resp['chart']['result'][0]['indicators']['quote'][0]['high'][indx],\n",
    "                     resp['chart']['result'][0]['indicators']['quote'][0]['close'][indx],\n",
    "                     resp['chart']['result'][0]['indicators']['quote'][0]['low'][indx],\n",
    "                     resp['chart']['result'][0]['indicators']['quote'][0]['volume'][indx]\n",
    "                    ))\n",
    "    return data\n",
    "\n",
    "def save_to_file(data_save, file_name):\n",
    "    \"\"\"save data to filename\"\"\"\n",
    "    with open(\"{}.txt\".format(file_name), \"a\") as f:\n",
    "        f.write(('timestamp, open, high, close, low, volume'))\n",
    "        f.write('\\n')\n",
    "        for i in data_save:\n",
    "            f.write(str(i))\n",
    "            f.write('\\n')     \n",
    "\n",
    "            \n",
    "if __name__ == '__main__':\n",
    "    url = 'https://query1.finance.yahoo.com/v7/finance/chart/%5EBSESN?period2=\t1478111136&period1=1478012261&interval=1m&indicators=quote&includeTimestamps=true&includePrePost=true&events=div%7Csplit%7Cearn&corsDomain=finance.yahoo.com'\n",
    "\n",
    "    url2 = 'https://query1.finance.yahoo.com/v7/finance/chart/%5ENSEI?period2=\t1478111136&period1=1478012261&interval=1m&indicators=quote&includeTimestamps=true&includePrePost=true&events=div%7Csplit%7Cearn&corsDomain=finance.yahoo.com'\n",
    "    \n",
    "    data = parse_data(url2)\n",
    "    save_to_file(data, 'ZINC')"
   ]
  },
  {
   "cell_type": "code",
   "execution_count": 94,
   "metadata": {
    "collapsed": false
   },
   "outputs": [
    {
     "name": "stderr",
     "output_type": "stream",
     "text": [
      "usage: __main__.py [-h] symbol start end scale\n",
      "__main__.py: error: the following arguments are required: start, end, scale\n"
     ]
    },
    {
     "ename": "SystemExit",
     "evalue": "2",
     "output_type": "error",
     "traceback": [
      "An exception has occurred, use %tb to see the full traceback.\n",
      "\u001b[1;31mSystemExit\u001b[0m\u001b[1;31m:\u001b[0m 2\n"
     ]
    },
    {
     "name": "stderr",
     "output_type": "stream",
     "text": [
      "To exit: use 'exit', 'quit', or Ctrl-D.\n"
     ]
    }
   ],
   "source": [
    "import os\n",
    "import argparse\n",
    "from datetime import datetime as dt\n",
    "\n",
    "def parse_args():\n",
    "    parser = argparse.ArgumentParser(description=\"Download data from Yahoo\")\n",
    "    parser.add_argument(\"symbol\", type=str, help=\"Bloomberg symbol = %5ENSEI\")\n",
    "    parser.add_argument(\"start\", type=int, help=\"Start Date = 20161029035900 as %Y%m%d%H%M%S\")\n",
    "    parser.add_argument(\"end\", type=int, help=\"End Date = 20161029035900 as %Y%m%d%H%M%S\")\n",
    "    parser.add_argument(\"scale\", type=int, help=\"Scale = 100\")\n",
    "    \n",
    "    args = parser.parse_args()\n",
    "    return args\n",
    "\n",
    "def parse_data(symbol, start, end):\n",
    "    url = 'https://query1.finance.yahoo.com/v7/finance/chart/{0}?period2={1}&period1={2}&interval=1m&indicators=quote&includeTimestamps=true&includePrePost=true&events=div%7Csplit%7Cearn&corsDomain=finance.yahoo.com'.format(symbol, start, end)\n",
    "    \n",
    "    resp = requests.get(url).json()\n",
    "    data = []\n",
    "    \n",
    "    for indx, ts in enumerate(resp['chart']['result'][0]['timestamp']):\n",
    "        data.append((ts, resp['chart']['result'][0]['indicators']['quote'][0]['open'][indx]))\n",
    "        data.append((ts, resp['chart']['result'][0]['indicators']['quote'][0]['high'][indx]))\n",
    "        data.append((ts, resp['chart']['result'][0]['indicators']['quote'][0]['low'][indx]))\n",
    "        data.append((ts, resp['chart']['result'][0]['indicators']['quote'][0]['close'][indx]))\n",
    "        \n",
    "    return data\n",
    "\n",
    "def save_to_file(data, file_name, scale):\n",
    "    \"\"\"save data to filename\"\"\"\n",
    "    with open(\"{}.txt\".format(file_name), \"a\") as f:\n",
    "        for i in data:\n",
    "            _time = dt.fromtimestamp(int(i[0]) - 32400).strftime('%y%m%d %H%M%S')\n",
    "            quote = str(int(round(i[1], 2) * scale))\n",
    "            f.write(_time + ' ' + quote + '\\n')\n",
    "\n",
    "if __name__ == \"__main__\":\n",
    "    symbol_args = parse_args()\n",
    "    _start = int(dt.strptime(str(symbol_args.start), \"%Y%m%d%H%M%S\").timestamp())\n",
    "    _end = int(dt.strptime(str(symbol_args.end), \"%Y%m%d%H%M%S\").timestamp())\n",
    "    \n",
    "    data = parse_data(symbol_args.symbol, _start, _end)\n",
    "    save_to_file(data, symbol_args.symbol, symbol_args.scale)"
   ]
  }
 ],
 "metadata": {
  "kernelspec": {
   "display_name": "Python 3",
   "language": "python",
   "name": "python3"
  },
  "language_info": {
   "codemirror_mode": {
    "name": "ipython",
    "version": 3
   },
   "file_extension": ".py",
   "mimetype": "text/x-python",
   "name": "python",
   "nbconvert_exporter": "python",
   "pygments_lexer": "ipython3",
   "version": "3.5.1"
  },
  "widgets": {
   "state": {},
   "version": "1.1.2"
  }
 },
 "nbformat": 4,
 "nbformat_minor": 0
}
