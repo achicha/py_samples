{
 "cells": [
  {
   "cell_type": "code",
   "execution_count": 43,
   "metadata": {
    "collapsed": false
   },
   "outputs": [],
   "source": [
    "import requests\n",
    "from datetime import datetime as dt\n",
    "\n",
    "def parse_data(url):\n",
    "    resp = requests.get(url).json()\n",
    "    data = []\n",
    "    for indx, ts in enumerate(resp['chart']['result'][0]['timestamp']):\n",
    "        data.append((dt.fromtimestamp(int(ts)).strftime('%Y%m%d%H%M%S'), \n",
    "                     resp['chart']['result'][0]['indicators']['quote'][0]['open'][indx],\n",
    "                     resp['chart']['result'][0]['indicators']['quote'][0]['high'][indx],\n",
    "                     resp['chart']['result'][0]['indicators']['quote'][0]['close'][indx],\n",
    "                     resp['chart']['result'][0]['indicators']['quote'][0]['low'][indx],\n",
    "                     resp['chart']['result'][0]['indicators']['quote'][0]['volume'][indx]\n",
    "                    ))\n",
    "    return data\n",
    "\n",
    "def save_to_file(data_save, file_name):\n",
    "    \"\"\"save data to filename\"\"\"\n",
    "    with open(\"{}.txt\".format(file_name), \"a\") as f:\n",
    "        f.write(('timestamp, open, high, close, low, volume'))\n",
    "        f.write('\\n')\n",
    "        for i in data_save:\n",
    "            f.write(str(i))\n",
    "            f.write('\\n')     \n",
    "\n",
    "            \n",
    "if __name__ == '__main__':\n",
    "    url = 'https://query1.finance.yahoo.com/v7/finance/chart/%5EBSESN?period2=1478007062&period1=1477661462&interval=1m&indicators=quote&includeTimestamps=true&includePrePost=true&events=div%7Csplit%7Cearn&corsDomain=finance.yahoo.com'\n",
    "\n",
    "    url2 = 'https://query1.finance.yahoo.com/v7/finance/chart/%5ENSEI?period2=1478012261&period1=1477666661&interval=1m&indicators=quote&includeTimestamps=true&includePrePost=true&events=div%7Csplit%7Cearn&corsDomain=finance.yahoo.com'\n",
    "    \n",
    "    data = parse_data(url2)\n",
    "    save_to_file(data, 'ZINC')"
   ]
  }
 ],
 "metadata": {
  "kernelspec": {
   "display_name": "Python 3",
   "language": "python",
   "name": "python3"
  },
  "language_info": {
   "codemirror_mode": {
    "name": "ipython",
    "version": 3
   },
   "file_extension": ".py",
   "mimetype": "text/x-python",
   "name": "python",
   "nbconvert_exporter": "python",
   "pygments_lexer": "ipython3",
   "version": "3.5.1"
  },
  "widgets": {
   "state": {},
   "version": "1.1.2"
  }
 },
 "nbformat": 4,
 "nbformat_minor": 0
}
